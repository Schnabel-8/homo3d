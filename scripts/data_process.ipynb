{
 "cells": [
  {
   "cell_type": "code",
   "execution_count": null,
   "id": "915a72d4",
   "metadata": {},
   "outputs": [],
   "source": [
    "## reading debug.json\n",
    "import json\n",
    "f=open(\"../build/debug.json\")\n",
    "data=json.load(f)\n",
    "## iterations\n",
    "num_iter=len(data[\"obj\"])\n",
    "## data\n",
    "obj=data[\"obj\"]\n",
    "constrain1=data[\"constrain1\"]\n",
    "time_eq=data[\"time_eq\"]\n",
    "time_mma=data[\"time_mma\"]\n",
    "volfrac=data[\"volfrac\"]\n",
    "config=data[\"config\"]"
   ]
  },
  {
   "cell_type": "code",
   "execution_count": null,
   "id": "d23d8a78",
   "metadata": {},
   "outputs": [],
   "source": [
    "## plot\n",
    "from pylab import *\n",
    "from matplotlib import pyplot as plt\n",
    "import numpy as np\n",
    "## turn list to numpy arrays\n",
    "obj=np.array(obj)\n",
    "constrain1=np.array(constrain1)\n",
    "time_eq=np.array(time_eq)\n",
    "time_mma=np.array(time_mma)\n",
    "volfrac=np.array(volfrac)\n",
    "iters=np.arange(1,num_iter+1,1)\n",
    "## plot obj-itr\n",
    "plt.subplot(131)\n",
    "plt.xlabel(\"iterations\")\n",
    "plt.ylabel(\"objective\")\n",
    "plt.title(\"obj-itr\")\n",
    "plot(iters,obj,color=\"blue\",label=\"obj\")\n",
    "plot(iters,constrain1,color=\"red\",label=\"constrain1\")\n",
    "plt.legend()\n",
    "## plot time-itr\n",
    "plt.subplot(132)\n",
    "plt.xlabel(\"iterations\")\n",
    "plt.ylabel(\"time\")\n",
    "plt.title(\"time-itr\")\n",
    "plot(iters,time_eq,color=\"blue\",label=\"eq\")\n",
    "plot(iters,time_mma,color=\"red\",label=\"mma\")\n",
    "plt.legend()\n",
    "## plot volfrac\n",
    "plt.subplot(133)\n",
    "plt.xlabel(\"iterations\")\n",
    "plt.ylabel(\"volfrac\")\n",
    "plt.title(\"volfrac-itr\")\n",
    "plot(iters,volfrac,color=\"blue\",label=\"volfrac\")\n",
    "plt.legend()\n",
    "## print config\n",
    "print(\"config:\")\n",
    "print(config)"
   ]
  },
  {
   "cell_type": "code",
   "execution_count": 1,
   "id": "8594114b",
   "metadata": {},
   "outputs": [
    {
     "name": "stdout",
     "output_type": "stream",
     "text": [
      "config:\n",
      "['funtion = robust_bulk', 'resolution= 64']\n"
     ]
    },
    {
     "ename": "ValueError",
     "evalue": "x and y must have same first dimension, but have shapes (3,) and (0,)",
     "output_type": "error",
     "traceback": [
      "\u001b[0;31m---------------------------------------------------------------------------\u001b[0m",
      "\u001b[0;31mValueError\u001b[0m                                Traceback (most recent call last)",
      "\u001b[0;32m/tmp/ipykernel_12425/399744321.py\u001b[0m in \u001b[0;36m<module>\u001b[0;34m\u001b[0m\n\u001b[1;32m     53\u001b[0m     \u001b[0mplot\u001b[0m\u001b[0;34m(\u001b[0m\u001b[0miters\u001b[0m\u001b[0;34m,\u001b[0m\u001b[0mobj\u001b[0m\u001b[0;34m,\u001b[0m\u001b[0mcolor\u001b[0m\u001b[0;34m=\u001b[0m\u001b[0;34m\"blue\"\u001b[0m\u001b[0;34m,\u001b[0m\u001b[0mlabel\u001b[0m\u001b[0;34m=\u001b[0m\u001b[0;34m\"obj\"\u001b[0m\u001b[0;34m)\u001b[0m\u001b[0;34m\u001b[0m\u001b[0;34m\u001b[0m\u001b[0m\n\u001b[1;32m     54\u001b[0m     \u001b[0mplot\u001b[0m\u001b[0;34m(\u001b[0m\u001b[0miters\u001b[0m\u001b[0;34m,\u001b[0m\u001b[0mconstrain1\u001b[0m\u001b[0;34m,\u001b[0m\u001b[0mcolor\u001b[0m\u001b[0;34m=\u001b[0m\u001b[0;34m\"red\"\u001b[0m\u001b[0;34m,\u001b[0m\u001b[0mlabel\u001b[0m\u001b[0;34m=\u001b[0m\u001b[0;34m\"constrain1\"\u001b[0m\u001b[0;34m)\u001b[0m\u001b[0;34m\u001b[0m\u001b[0;34m\u001b[0m\u001b[0m\n\u001b[0;32m---> 55\u001b[0;31m     \u001b[0mplot\u001b[0m\u001b[0;34m(\u001b[0m\u001b[0miters\u001b[0m\u001b[0;34m,\u001b[0m\u001b[0mconstrain2\u001b[0m\u001b[0;34m,\u001b[0m\u001b[0mcolor\u001b[0m\u001b[0;34m=\u001b[0m\u001b[0;34m\"green\"\u001b[0m\u001b[0;34m,\u001b[0m\u001b[0mlabel\u001b[0m\u001b[0;34m=\u001b[0m\u001b[0;34m\"constrain2\"\u001b[0m\u001b[0;34m)\u001b[0m\u001b[0;34m\u001b[0m\u001b[0;34m\u001b[0m\u001b[0m\n\u001b[0m\u001b[1;32m     56\u001b[0m     \u001b[0mplt\u001b[0m\u001b[0;34m.\u001b[0m\u001b[0mlegend\u001b[0m\u001b[0;34m(\u001b[0m\u001b[0;34m)\u001b[0m\u001b[0;34m\u001b[0m\u001b[0;34m\u001b[0m\u001b[0m\n\u001b[1;32m     57\u001b[0m     \u001b[0;31m## plot time-itr\u001b[0m\u001b[0;34m\u001b[0m\u001b[0;34m\u001b[0m\u001b[0m\n",
      "\u001b[0;32m~/anaconda3/lib/python3.9/site-packages/matplotlib/pyplot.py\u001b[0m in \u001b[0;36mplot\u001b[0;34m(scalex, scaley, data, *args, **kwargs)\u001b[0m\n\u001b[1;32m   2767\u001b[0m \u001b[0;34m@\u001b[0m\u001b[0m_copy_docstring_and_deprecators\u001b[0m\u001b[0;34m(\u001b[0m\u001b[0mAxes\u001b[0m\u001b[0;34m.\u001b[0m\u001b[0mplot\u001b[0m\u001b[0;34m)\u001b[0m\u001b[0;34m\u001b[0m\u001b[0;34m\u001b[0m\u001b[0m\n\u001b[1;32m   2768\u001b[0m \u001b[0;32mdef\u001b[0m \u001b[0mplot\u001b[0m\u001b[0;34m(\u001b[0m\u001b[0;34m*\u001b[0m\u001b[0margs\u001b[0m\u001b[0;34m,\u001b[0m \u001b[0mscalex\u001b[0m\u001b[0;34m=\u001b[0m\u001b[0;32mTrue\u001b[0m\u001b[0;34m,\u001b[0m \u001b[0mscaley\u001b[0m\u001b[0;34m=\u001b[0m\u001b[0;32mTrue\u001b[0m\u001b[0;34m,\u001b[0m \u001b[0mdata\u001b[0m\u001b[0;34m=\u001b[0m\u001b[0;32mNone\u001b[0m\u001b[0;34m,\u001b[0m \u001b[0;34m**\u001b[0m\u001b[0mkwargs\u001b[0m\u001b[0;34m)\u001b[0m\u001b[0;34m:\u001b[0m\u001b[0;34m\u001b[0m\u001b[0;34m\u001b[0m\u001b[0m\n\u001b[0;32m-> 2769\u001b[0;31m     return gca().plot(\n\u001b[0m\u001b[1;32m   2770\u001b[0m         \u001b[0;34m*\u001b[0m\u001b[0margs\u001b[0m\u001b[0;34m,\u001b[0m \u001b[0mscalex\u001b[0m\u001b[0;34m=\u001b[0m\u001b[0mscalex\u001b[0m\u001b[0;34m,\u001b[0m \u001b[0mscaley\u001b[0m\u001b[0;34m=\u001b[0m\u001b[0mscaley\u001b[0m\u001b[0;34m,\u001b[0m\u001b[0;34m\u001b[0m\u001b[0;34m\u001b[0m\u001b[0m\n\u001b[1;32m   2771\u001b[0m         **({\"data\": data} if data is not None else {}), **kwargs)\n",
      "\u001b[0;32m~/anaconda3/lib/python3.9/site-packages/matplotlib/axes/_axes.py\u001b[0m in \u001b[0;36mplot\u001b[0;34m(self, scalex, scaley, data, *args, **kwargs)\u001b[0m\n\u001b[1;32m   1630\u001b[0m         \"\"\"\n\u001b[1;32m   1631\u001b[0m         \u001b[0mkwargs\u001b[0m \u001b[0;34m=\u001b[0m \u001b[0mcbook\u001b[0m\u001b[0;34m.\u001b[0m\u001b[0mnormalize_kwargs\u001b[0m\u001b[0;34m(\u001b[0m\u001b[0mkwargs\u001b[0m\u001b[0;34m,\u001b[0m \u001b[0mmlines\u001b[0m\u001b[0;34m.\u001b[0m\u001b[0mLine2D\u001b[0m\u001b[0;34m)\u001b[0m\u001b[0;34m\u001b[0m\u001b[0;34m\u001b[0m\u001b[0m\n\u001b[0;32m-> 1632\u001b[0;31m         \u001b[0mlines\u001b[0m \u001b[0;34m=\u001b[0m \u001b[0;34m[\u001b[0m\u001b[0;34m*\u001b[0m\u001b[0mself\u001b[0m\u001b[0;34m.\u001b[0m\u001b[0m_get_lines\u001b[0m\u001b[0;34m(\u001b[0m\u001b[0;34m*\u001b[0m\u001b[0margs\u001b[0m\u001b[0;34m,\u001b[0m \u001b[0mdata\u001b[0m\u001b[0;34m=\u001b[0m\u001b[0mdata\u001b[0m\u001b[0;34m,\u001b[0m \u001b[0;34m**\u001b[0m\u001b[0mkwargs\u001b[0m\u001b[0;34m)\u001b[0m\u001b[0;34m]\u001b[0m\u001b[0;34m\u001b[0m\u001b[0;34m\u001b[0m\u001b[0m\n\u001b[0m\u001b[1;32m   1633\u001b[0m         \u001b[0;32mfor\u001b[0m \u001b[0mline\u001b[0m \u001b[0;32min\u001b[0m \u001b[0mlines\u001b[0m\u001b[0;34m:\u001b[0m\u001b[0;34m\u001b[0m\u001b[0;34m\u001b[0m\u001b[0m\n\u001b[1;32m   1634\u001b[0m             \u001b[0mself\u001b[0m\u001b[0;34m.\u001b[0m\u001b[0madd_line\u001b[0m\u001b[0;34m(\u001b[0m\u001b[0mline\u001b[0m\u001b[0;34m)\u001b[0m\u001b[0;34m\u001b[0m\u001b[0;34m\u001b[0m\u001b[0m\n",
      "\u001b[0;32m~/anaconda3/lib/python3.9/site-packages/matplotlib/axes/_base.py\u001b[0m in \u001b[0;36m__call__\u001b[0;34m(self, data, *args, **kwargs)\u001b[0m\n\u001b[1;32m    310\u001b[0m                 \u001b[0mthis\u001b[0m \u001b[0;34m+=\u001b[0m \u001b[0margs\u001b[0m\u001b[0;34m[\u001b[0m\u001b[0;36m0\u001b[0m\u001b[0;34m]\u001b[0m\u001b[0;34m,\u001b[0m\u001b[0;34m\u001b[0m\u001b[0;34m\u001b[0m\u001b[0m\n\u001b[1;32m    311\u001b[0m                 \u001b[0margs\u001b[0m \u001b[0;34m=\u001b[0m \u001b[0margs\u001b[0m\u001b[0;34m[\u001b[0m\u001b[0;36m1\u001b[0m\u001b[0;34m:\u001b[0m\u001b[0;34m]\u001b[0m\u001b[0;34m\u001b[0m\u001b[0;34m\u001b[0m\u001b[0m\n\u001b[0;32m--> 312\u001b[0;31m             \u001b[0;32myield\u001b[0m \u001b[0;32mfrom\u001b[0m \u001b[0mself\u001b[0m\u001b[0;34m.\u001b[0m\u001b[0m_plot_args\u001b[0m\u001b[0;34m(\u001b[0m\u001b[0mthis\u001b[0m\u001b[0;34m,\u001b[0m \u001b[0mkwargs\u001b[0m\u001b[0;34m)\u001b[0m\u001b[0;34m\u001b[0m\u001b[0;34m\u001b[0m\u001b[0m\n\u001b[0m\u001b[1;32m    313\u001b[0m \u001b[0;34m\u001b[0m\u001b[0m\n\u001b[1;32m    314\u001b[0m     \u001b[0;32mdef\u001b[0m \u001b[0mget_next_color\u001b[0m\u001b[0;34m(\u001b[0m\u001b[0mself\u001b[0m\u001b[0;34m)\u001b[0m\u001b[0;34m:\u001b[0m\u001b[0;34m\u001b[0m\u001b[0;34m\u001b[0m\u001b[0m\n",
      "\u001b[0;32m~/anaconda3/lib/python3.9/site-packages/matplotlib/axes/_base.py\u001b[0m in \u001b[0;36m_plot_args\u001b[0;34m(self, tup, kwargs, return_kwargs)\u001b[0m\n\u001b[1;32m    496\u001b[0m \u001b[0;34m\u001b[0m\u001b[0m\n\u001b[1;32m    497\u001b[0m         \u001b[0;32mif\u001b[0m \u001b[0mx\u001b[0m\u001b[0;34m.\u001b[0m\u001b[0mshape\u001b[0m\u001b[0;34m[\u001b[0m\u001b[0;36m0\u001b[0m\u001b[0;34m]\u001b[0m \u001b[0;34m!=\u001b[0m \u001b[0my\u001b[0m\u001b[0;34m.\u001b[0m\u001b[0mshape\u001b[0m\u001b[0;34m[\u001b[0m\u001b[0;36m0\u001b[0m\u001b[0;34m]\u001b[0m\u001b[0;34m:\u001b[0m\u001b[0;34m\u001b[0m\u001b[0;34m\u001b[0m\u001b[0m\n\u001b[0;32m--> 498\u001b[0;31m             raise ValueError(f\"x and y must have same first dimension, but \"\n\u001b[0m\u001b[1;32m    499\u001b[0m                              f\"have shapes {x.shape} and {y.shape}\")\n\u001b[1;32m    500\u001b[0m         \u001b[0;32mif\u001b[0m \u001b[0mx\u001b[0m\u001b[0;34m.\u001b[0m\u001b[0mndim\u001b[0m \u001b[0;34m>\u001b[0m \u001b[0;36m2\u001b[0m \u001b[0;32mor\u001b[0m \u001b[0my\u001b[0m\u001b[0;34m.\u001b[0m\u001b[0mndim\u001b[0m \u001b[0;34m>\u001b[0m \u001b[0;36m2\u001b[0m\u001b[0;34m:\u001b[0m\u001b[0;34m\u001b[0m\u001b[0;34m\u001b[0m\u001b[0m\n",
      "\u001b[0;31mValueError\u001b[0m: x and y must have same first dimension, but have shapes (3,) and (0,)"
     ]
    },
    {
     "data": {
      "image/png": "[encoded data removed]",
      "text/plain": [
       "<Figure size 640x480 with 1 Axes>"
      ]
     },
     "metadata": {},
     "output_type": "display_data"
    }
   ],
   "source": [
    "## reading debug.json\n",
    "import json\n",
    "from pylab import *\n",
    "from matplotlib import pyplot as plt\n",
    "import numpy as np\n",
    "import time as time\n",
    "%matplotlib inline\n",
    "\n",
    "# set up matplotlib\n",
    "is_ipython = 'inline' in matplotlib.get_backend()\n",
    "if is_ipython:\n",
    "    from IPython import display\n",
    "\n",
    "plt.ion()\n",
    "    \n",
    "max_iters=500\n",
    "iter=1\n",
    "while iter<max_iters:\n",
    "    f=open(\"../build/debug.json\")\n",
    "    data=json.load(f)\n",
    "    ## iterations\n",
    "    num_iter=len(data[\"obj\"])\n",
    "    ## data\n",
    "    obj=data[\"obj\"]\n",
    "    constrain1=data[\"constrain1\"]\n",
    "    constrain2=data[\"constrain2\"]\n",
    "    time_eq=data[\"time_eq\"]\n",
    "    time_mma=data[\"time_mma\"]\n",
    "    volfrac=data[\"volfrac\"]\n",
    "    config=data[\"config\"]\n",
    "    \n",
    "    if is_ipython:\n",
    "        display.clear_output(wait=True)\n",
    "    \n",
    "    if iter==1:\n",
    "        ## print config\n",
    "        print(\"config:\")\n",
    "        print(config)\n",
    "    \n",
    "    ## plot   \n",
    "    ## turn list to numpy arrays\n",
    "    obj=np.array(obj)\n",
    "    constrain1=np.array(constrain1)\n",
    "    time_eq=np.array(time_eq)\n",
    "    time_mma=np.array(time_mma)\n",
    "    volfrac=np.array(volfrac)\n",
    "    iters=np.arange(1,num_iter+1,1)\n",
    "    ## plot obj-itr\n",
    "    plt.subplot(131)\n",
    "    plt.xlabel(\"iterations\")\n",
    "    plt.ylabel(\"objective\")\n",
    "    plt.title(\"obj-itr\")\n",
    "    plot(iters,obj,color=\"blue\",label=\"obj\")\n",
    "    plot(iters,constrain1,color=\"red\",label=\"constrain1\")\n",
    "    plot(iters,constrain2,color=\"green\",label=\"constrain2\")\n",
    "    plt.legend()\n",
    "    ## plot time-itr\n",
    "    plt.subplot(132)\n",
    "    plt.xlabel(\"iterations\")\n",
    "    plt.ylabel(\"time\")\n",
    "    plt.title(\"time-itr\")\n",
    "    plot(iters,time_eq,color=\"blue\",label=\"eq\")\n",
    "    plot(iters,time_mma,color=\"red\",label=\"mma\")\n",
    "    plt.legend()\n",
    "    ## plot volfrac\n",
    "    plt.subplot(133)\n",
    "    plt.xlabel(\"iterations\")\n",
    "    plt.ylabel(\"volfrac\")\n",
    "    plt.title(\"volfrac-itr\")\n",
    "    plot(iters,volfrac,color=\"blue\",label=\"volfrac\")\n",
    "    plt.legend()\n",
    "    \n",
    "    plt.show()\n",
    "    \n",
    "    time_cost=sum(time_eq)+sum(time_mma)\n",
    "    time_hour=time_cost//3600\n",
    "    time_minute=(time_cost%3600)//60\n",
    "    time_second=int(time_cost-time_hour*3600-time_minute*60)\n",
    "    \n",
    "    print(f\"time cost : {time_hour} hours {time_minute} minutes {time_second} s\")\n",
    "    \n",
    "    ## block\n",
    "    #ime.sleep(time_eq[iter-1]+time_mma[iter-1])\n",
    "    time.sleep(time_eq[-1]+time_mma[-1])\n",
    "    \n",
    "    \n",
    "    \n",
    "    ## iter++\n",
    "    iter+=1"
   ]
  },
  {
   "cell_type": "code",
   "execution_count": null,
   "id": "95513d00",
   "metadata": {},
   "outputs": [],
   "source": [
    "import math\n",
    "import random\n",
    "import numpy as np\n",
    "import matplotlib\n",
    "import matplotlib.pyplot as plt\n",
    "%matplotlib inline\n",
    "\n",
    "# set up matplotlib\n",
    "is_ipython = 'inline' in matplotlib.get_backend()\n",
    "if is_ipython:\n",
    "    from IPython import display\n",
    "\n",
    "plt.ion()\n",
    "\n",
    "def plot_durations(x, y1, y2):\n",
    "    #plt.figure(2)\n",
    "#     plt.clf() 此时不能调用此函数，不然之前的点将被清空。\n",
    "    plt.subplot(211)\n",
    "    plt.plot(x, y1, '.')\n",
    "    plt.subplot(212)\n",
    "    plt.plot(x, y2, '.')\n",
    "\n",
    "    plt.pause(0.1)  # pause a bit so that plots are updated\n",
    "    if is_ipython:\n",
    "        display.clear_output(wait=True)\n",
    "        #display.display(plt.gcf())\n",
    "x = np.linspace(-1,1,500)\n",
    "y1=np.cos(x)\n",
    "y2=np.sin(x)\n",
    "for i in np.arange(1,500,1):\n",
    "    plot_durations(x[0:i], y1[0:i], y2[0:i])\n",
    "\n"
   ]
  },
  {
   "cell_type": "code",
   "execution_count": 2,
   "id": "10990544",
   "metadata": {},
   "outputs": [
    {
     "name": "stdout",
     "output_type": "stream",
     "text": [
      "[-1.  -0.5  0.   0.5  1. ]\n",
      "[1]\n",
      "[0.54030231 0.87758256 1.        ]\n",
      "1.0\n"
     ]
    }
   ],
   "source": [
    "import numpy as np\n",
    "x=np.linspace(-1,1,5)\n",
    "print(x)\n",
    "print(np.arange(1,2,1))\n",
    "print(np.cos(x[0:3]))\n",
    "print(x[-1])"
   ]
  },
  {
   "cell_type": "code",
   "execution_count": 11,
   "id": "bef368a4",
   "metadata": {},
   "outputs": [
    {
     "name": "stdout",
     "output_type": "stream",
     "text": [
      "array: 6\n"
     ]
    }
   ],
   "source": [
    "import numpy as np\n",
    "x={1,2,3}\n",
    "y=sum(x)\n",
    "print(f\"array: {y}\")"
   ]
  },
  {
   "cell_type": "code",
   "execution_count": null,
   "id": "7448503b",
   "metadata": {},
   "outputs": [],
   "source": []
  }
 ],
 "metadata": {
  "kernelspec": {
   "display_name": "Python 3 (ipykernel)",
   "language": "python",
   "name": "python3"
  },
  "language_info": {
   "codemirror_mode": {
    "name": "ipython",
    "version": 3
   },
   "file_extension": ".py",
   "mimetype": "text/x-python",
   "name": "python",
   "nbconvert_exporter": "python",
   "pygments_lexer": "ipython3",
   "version": "3.9.13"
  }
 },
 "nbformat": 4,
 "nbformat_minor": 5
}
