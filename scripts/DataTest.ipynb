{
 "cells": [
  {
   "cell_type": "code",
   "execution_count": 26,
   "id": "9943bb7c",
   "metadata": {},
   "outputs": [
    {
     "name": "stdout",
     "output_type": "stream",
     "text": [
      "1.0802636e-06\n",
      "4.221423e-06\n"
     ]
    }
   ],
   "source": [
    "import json\n",
    "import jax.numpy as jnp\n",
    "from jax import grad\n",
    "class tensor:\n",
    "    js=0\n",
    "    data=0\n",
    "    def __init__(self,name,dim):\n",
    "        if(not tensor.js):\n",
    "            raise Exception('null path!')\n",
    "        self.arr=jnp.array(tensor.data[name]).reshape(dim)\n",
    "    def path(self,name):\n",
    "        tensor.js=open(name)\n",
    "        tensor.data=json.load(tensor.js)\n",
    "\n",
    "tensor.path(tensor,\"../build/mytest\")\n",
    "x=tensor(\"x\",(10,10,10))\n",
    "y=tensor(\"y\",(10,10,10))\n",
    "xdiff=tensor(\"xdiff\",(10,10,10))\n",
    "\n",
    "def project(arr,eta,beta):\n",
    "    t1=jnp.tanh(beta*eta)\n",
    "    t2=jnp.tanh(beta*(1-eta))\n",
    "    t3=jnp.tanh(beta*(arr-eta))\n",
    "    return (t1+t3)/(t1+t2)\n",
    "\n",
    "diffproj=grad(project)\n",
    "def df(arr,eta,beta):\n",
    "    t1=jnp.tanh(beta*eta)\n",
    "    t2=jnp.tanh(beta*(1-eta))\n",
    "    t3=jnp.tanh(beta*(arr-eta))\n",
    "    t4=beta/(jnp.cosh(beta*(arr-eta))**2)\n",
    "    return t4/(t1+t2)\n",
    "eta=0.7\n",
    "beta=2\n",
    "print(jnp.linalg.norm(y.arr-project(x.arr,eta,beta)))\n",
    "print(jnp.linalg.norm(xdiff.arr-df(x.arr,eta,beta)))\n",
    "#print(xdiff.arr[5,6,1],diffproj(x.arr[5,6,1],eta,beta),df(x.arr[5,6,1],eta,beta))\n",
    "#print(y.arr[7,5,0],project(x.arr[7,5,0],eta,beta))\n",
    "tensor.js.close()"
   ]
  },
  {
   "cell_type": "code",
   "execution_count": 12,
   "id": "294d351f",
   "metadata": {},
   "outputs": [
    {
     "name": "stdout",
     "output_type": "stream",
     "text": [
      "nigger\n"
     ]
    }
   ],
   "source": [
    "class foo:\n",
    "    bar=0\n",
    "    def __init__(self,a):\n",
    "        if(not foo.bar):\n",
    "            foo.bar=a\n",
    "foo.bar=\"nigger\"\n",
    "print(foo.bar)"
   ]
  },
  {
   "cell_type": "code",
   "execution_count": 41,
   "id": "6cf395c3",
   "metadata": {},
   "outputs": [
    {
     "name": "stderr",
     "output_type": "stream",
     "text": [
      "Exception ignored in: <function tensor.__del__ at 0x7f55303c0430>\n",
      "Traceback (most recent call last):\n",
      "  File \"/tmp/ipykernel_84813/2372077793.py\", line 12, in __del__\n",
      "AttributeError: type object 'tensor' has no attribute 'close'\n"
     ]
    },
    {
     "name": "stdout",
     "output_type": "stream",
     "text": [
      "[[[0.         0.76159416 0.96402758]\n",
      "  [0.99505475 0.9993293  0.9999092 ]\n",
      "  [0.99998771 0.99999834 0.99999977]]\n",
      "\n",
      " [[0.99999997 1.         1.        ]\n",
      "  [1.         1.         1.        ]\n",
      "  [1.         1.         1.        ]]\n",
      "\n",
      " [[1.         1.         1.        ]\n",
      "  [1.         1.         1.        ]\n",
      "  [1.         1.         1.        ]]]\n"
     ]
    }
   ],
   "source": [
    "import numpy as np\n",
    "\n",
    "a=np.array(range(0,27))\n",
    "b=np.reshape(a,(3,3,3))\n",
    "print(np.tanh(b))"
   ]
  },
  {
   "cell_type": "code",
   "execution_count": 25,
   "id": "25f42279",
   "metadata": {},
   "outputs": [
    {
     "name": "stdout",
     "output_type": "stream",
     "text": [
      "2 3\n"
     ]
    }
   ],
   "source": [
    "def a(b):\n",
    "    print(b[1],b[2])\n",
    "a((1,2,3))"
   ]
  },
  {
   "cell_type": "code",
   "execution_count": 39,
   "id": "559f5874",
   "metadata": {},
   "outputs": [
    {
     "data": {
      "text/plain": [
       "0.9999877116507956"
      ]
     },
     "execution_count": 39,
     "metadata": {},
     "output_type": "execute_result"
    }
   ],
   "source": [
    "from math import tanh\n",
    "tanh(6)"
   ]
  },
  {
   "cell_type": "code",
   "execution_count": null,
   "id": "cd1b97a3",
   "metadata": {},
   "outputs": [],
   "source": []
  }
 ],
 "metadata": {
  "kernelspec": {
   "display_name": "Python 3 (ipykernel)",
   "language": "python",
   "name": "python3"
  },
  "language_info": {
   "codemirror_mode": {
    "name": "ipython",
    "version": 3
   },
   "file_extension": ".py",
   "mimetype": "text/x-python",
   "name": "python",
   "nbconvert_exporter": "python",
   "pygments_lexer": "ipython3",
   "version": "3.9.13"
  }
 },
 "nbformat": 4,
 "nbformat_minor": 5
}
