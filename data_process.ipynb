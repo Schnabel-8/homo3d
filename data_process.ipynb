{
 "cells": [
  {
   "cell_type": "code",
   "execution_count": 73,
   "id": "3fb46222",
   "metadata": {},
   "outputs": [],
   "source": [
    "## reading debug.json\n",
    "import json\n",
    "f=open(\"./debug.json\")\n",
    "data=json.load(f)\n",
    "## iterations\n",
    "num_iter=len(data[\"obj\"])\n",
    "## data\n",
    "obj=data[\"obj\"]\n",
    "constrain1=data[\"constrain1\"]\n",
    "time_eq=data[\"time_eq\"]\n",
    "time_mma=data[\"time_mma\"]\n",
    "volfrac=data[\"volfrac\"]\n",
    "config=data[\"config\"]"
   ]
  },
  {
   "cell_type": "code",
   "execution_count": 1,
   "id": "a7855f32",
   "metadata": {},
   "outputs": [
    {
     "ename": "NameError",
     "evalue": "name 'obj' is not defined",
     "output_type": "error",
     "traceback": [
      "\u001b[0;31m---------------------------------------------------------------------------\u001b[0m",
      "\u001b[0;31mNameError\u001b[0m                                 Traceback (most recent call last)",
      "\u001b[0;32m/tmp/ipykernel_8816/702657173.py\u001b[0m in \u001b[0;36m<module>\u001b[0;34m\u001b[0m\n\u001b[1;32m      4\u001b[0m \u001b[0;32mimport\u001b[0m \u001b[0mnumpy\u001b[0m \u001b[0;32mas\u001b[0m \u001b[0mnp\u001b[0m\u001b[0;34m\u001b[0m\u001b[0;34m\u001b[0m\u001b[0m\n\u001b[1;32m      5\u001b[0m \u001b[0;31m## turn list to numpy arrays\u001b[0m\u001b[0;34m\u001b[0m\u001b[0;34m\u001b[0m\u001b[0m\n\u001b[0;32m----> 6\u001b[0;31m \u001b[0mobj\u001b[0m\u001b[0;34m=\u001b[0m\u001b[0mnp\u001b[0m\u001b[0;34m.\u001b[0m\u001b[0marray\u001b[0m\u001b[0;34m(\u001b[0m\u001b[0mobj\u001b[0m\u001b[0;34m)\u001b[0m\u001b[0;34m\u001b[0m\u001b[0;34m\u001b[0m\u001b[0m\n\u001b[0m\u001b[1;32m      7\u001b[0m \u001b[0mconstrain1\u001b[0m\u001b[0;34m=\u001b[0m\u001b[0mnp\u001b[0m\u001b[0;34m.\u001b[0m\u001b[0marray\u001b[0m\u001b[0;34m(\u001b[0m\u001b[0mconstrain1\u001b[0m\u001b[0;34m)\u001b[0m\u001b[0;34m\u001b[0m\u001b[0;34m\u001b[0m\u001b[0m\n\u001b[1;32m      8\u001b[0m \u001b[0mtime_eq\u001b[0m\u001b[0;34m=\u001b[0m\u001b[0mnp\u001b[0m\u001b[0;34m.\u001b[0m\u001b[0marray\u001b[0m\u001b[0;34m(\u001b[0m\u001b[0mtime_eq\u001b[0m\u001b[0;34m)\u001b[0m\u001b[0;34m\u001b[0m\u001b[0;34m\u001b[0m\u001b[0m\n",
      "\u001b[0;31mNameError\u001b[0m: name 'obj' is not defined"
     ]
    }
   ],
   "source": [
    "## plot\n",
    "from pylab import *\n",
    "from matplotlib import pyplot as plt\n",
    "import numpy as np\n",
    "## turn list to numpy arrays\n",
    "obj=np.array(obj)\n",
    "constrain1=np.array(constrain1)\n",
    "time_eq=np.array(time_eq)\n",
    "time_mma=np.array(time_mma)\n",
    "volfrac=np.array(volfrac)\n",
    "iters=np.arange(1,num_iter+1,1)\n",
    "## plot obj-itr\n",
    "plt.subplot(131)\n",
    "plt.xlabel(\"iterations\")\n",
    "plt.ylabel(\"objective\")\n",
    "plt.title(\"obj-itr\")\n",
    "plot(iters,obj,color=\"blue\",label=\"obj\")\n",
    "plot(iters,constrain1,color=\"red\",label=\"constrain1\")\n",
    "plt.legend()\n",
    "## plot time-itr\n",
    "plt.subplot(132)\n",
    "plt.xlabel(\"iterations\")\n",
    "plt.ylabel(\"time\")\n",
    "plt.title(\"time-itr\")\n",
    "plot(iters,time_eq,color=\"blue\",label=\"eq\")\n",
    "plot(iters,time_mma,color=\"red\",label=\"mma\")\n",
    "plt.legend()\n",
    "## plot volfrac\n",
    "plt.subplot(133)\n",
    "plt.xlabel(\"iterations\")\n",
    "plt.ylabel(\"volfrac\")\n",
    "plt.title(\"volfrac-itr\")\n",
    "plot(iters,volfrac,color=\"blue\",label=\"volfrac\")\n",
    "plt.legend()\n",
    "## print config\n",
    "print(\"config:\")\n",
    "print(config)"
   ]
  },
  {
   "cell_type": "code",
   "execution_count": null,
   "id": "0b5b9b5b",
   "metadata": {},
   "outputs": [],
   "source": []
  },
  {
   "cell_type": "code",
   "execution_count": null,
   "id": "7057fad7",
   "metadata": {},
   "outputs": [],
   "source": []
  }
 ],
 "metadata": {
  "kernelspec": {
   "display_name": "Python 3 (ipykernel)",
   "language": "python",
   "name": "python3"
  },
  "language_info": {
   "codemirror_mode": {
    "name": "ipython",
    "version": 3
   },
   "file_extension": ".py",
   "mimetype": "text/x-python",
   "name": "python",
   "nbconvert_exporter": "python",
   "pygments_lexer": "ipython3",
   "version": "3.9.13"
  }
 },
 "nbformat": 4,
 "nbformat_minor": 5
}
